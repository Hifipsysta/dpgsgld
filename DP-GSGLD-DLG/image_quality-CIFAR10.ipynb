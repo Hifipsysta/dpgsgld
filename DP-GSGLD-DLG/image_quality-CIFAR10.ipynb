{
 "cells": [
  {
   "cell_type": "code",
   "execution_count": 119,
   "id": "30afc5af",
   "metadata": {},
   "outputs": [],
   "source": [
    "import cv2\n",
    "import torch\n",
    "import torch.nn as nn\n",
    "import numpy as np\n",
    "from skimage import metrics\n",
    "from skimage.io import imread, imshow"
   ]
  },
  {
   "cell_type": "code",
   "execution_count": 120,
   "id": "6377cbc8",
   "metadata": {},
   "outputs": [],
   "source": [
    "DPGSGLD_DLG = 'assets/selected/CIFAR10_DPGSGLD_0.1_18.png'\n",
    "DPSGLD_DLG = 'assets/selected/CIFAR10_DPSGLD_0.1_18.png'\n",
    "DPSGD_DLG = 'assets/selected/CIFAR10_DPSGD_0.1_18.png'"
   ]
  },
  {
   "cell_type": "code",
   "execution_count": 121,
   "id": "a42149e9",
   "metadata": {},
   "outputs": [],
   "source": [
    "dpsgd_recons = imread(DPSGD_DLG)\n",
    "dpsgld_recons = imread(DPSGLD_DLG)\n",
    "dpgsgld_recons = imread(DPGSGLD_DLG)\n",
    "ground_truth = imread('assets/original_CIFAR_18.png')"
   ]
  },
  {
   "cell_type": "code",
   "execution_count": 122,
   "id": "8f24d4da",
   "metadata": {},
   "outputs": [
    {
     "name": "stderr",
     "output_type": "stream",
     "text": [
      "/var/folders/rf/8k9zz6yd745_0rgl05k820hr0000gn/T/ipykernel_74067/1426116387.py:1: FutureWarning: `multichannel` is a deprecated argument name for `structural_similarity`. It will be removed in version 1.0. Please use `channel_axis` instead.\n",
      "  SSIR_dpsgd = metrics.structural_similarity(ground_truth, dpsgd_recons, multichannel=True)\n",
      "/var/folders/rf/8k9zz6yd745_0rgl05k820hr0000gn/T/ipykernel_74067/1426116387.py:2: FutureWarning: `multichannel` is a deprecated argument name for `structural_similarity`. It will be removed in version 1.0. Please use `channel_axis` instead.\n",
      "  SSIR_dpsgld = metrics.structural_similarity(ground_truth, dpsgld_recons, multichannel=True)\n",
      "/var/folders/rf/8k9zz6yd745_0rgl05k820hr0000gn/T/ipykernel_74067/1426116387.py:3: FutureWarning: `multichannel` is a deprecated argument name for `structural_similarity`. It will be removed in version 1.0. Please use `channel_axis` instead.\n",
      "  SSIR_dpgsgld = metrics.structural_similarity(ground_truth, dpgsgld_recons, multichannel=True)\n"
     ]
    }
   ],
   "source": [
    "SSIR_dpsgd = metrics.structural_similarity(ground_truth, dpsgd_recons, multichannel=True)\n",
    "SSIR_dpsgld = metrics.structural_similarity(ground_truth, dpsgld_recons, multichannel=True)\n",
    "SSIR_dpgsgld = metrics.structural_similarity(ground_truth, dpgsgld_recons, multichannel=True)"
   ]
  },
  {
   "cell_type": "code",
   "execution_count": 123,
   "id": "e0cfe09a",
   "metadata": {},
   "outputs": [],
   "source": [
    "NRMSE_dpsgd = metrics.normalized_root_mse(ground_truth, dpsgd_recons)\n",
    "NRMSE_dpsgld = metrics.normalized_root_mse(ground_truth, dpsgld_recons)\n",
    "NRMSE_dpgsgld = metrics.normalized_root_mse(ground_truth, dpgsgld_recons)"
   ]
  },
  {
   "cell_type": "code",
   "execution_count": 124,
   "id": "cc7d011c",
   "metadata": {},
   "outputs": [],
   "source": [
    "PSNR_dpsgd = metrics.peak_signal_noise_ratio(ground_truth, dpsgd_recons)\n",
    "PSNR_dpsgld = metrics.peak_signal_noise_ratio(ground_truth, dpsgld_recons)\n",
    "PSNR_dpgsgld = metrics.peak_signal_noise_ratio(ground_truth, dpgsgld_recons)"
   ]
  },
  {
   "cell_type": "code",
   "execution_count": 125,
   "id": "13c257e8",
   "metadata": {},
   "outputs": [],
   "source": [
    "import lpips"
   ]
  },
  {
   "cell_type": "code",
   "execution_count": 126,
   "id": "4d56dc3a",
   "metadata": {
    "scrolled": false
   },
   "outputs": [
    {
     "name": "stdout",
     "output_type": "stream",
     "text": [
      "Setting up [LPIPS] perceptual loss: trunk [alex], v[0.1], spatial [off]\n",
      "Loading model from: /Users/chengyiyang/miniforge3/envs/torch_env/lib/python3.9/site-packages/lpips/weights/v0.1/alex.pth\n"
     ]
    }
   ],
   "source": [
    "loss_fn_alex = lpips.LPIPS(net='alex')"
   ]
  },
  {
   "cell_type": "code",
   "execution_count": 127,
   "id": "0f7f0387",
   "metadata": {},
   "outputs": [],
   "source": [
    "ground_truth_tensor = torch.tensor(ground_truth, dtype=torch.float).permute(2,0,1)\n",
    "dpsgd_recons_tensor = torch.tensor(dpsgd_recons, dtype=torch.float).permute(2,0,1)\n",
    "dpsgld_recons_tensor = torch.tensor(dpsgld_recons, dtype=torch.float).permute(2,0,1)\n",
    "dpgsgld_recons_tensor = torch.tensor(dpgsgld_recons, dtype=torch.float).permute(2,0,1)"
   ]
  },
  {
   "cell_type": "code",
   "execution_count": 128,
   "id": "216618d6",
   "metadata": {},
   "outputs": [],
   "source": [
    "LPIPS_dpsgd = loss_fn_alex.forward(ground_truth_tensor, \\\n",
    "                                   dpsgd_recons_tensor)\n",
    "LPIPS_dpsgld = loss_fn_alex.forward(ground_truth_tensor, \\\n",
    "                                   dpsgld_recons_tensor)\n",
    "LPIPS_dpgsgld = loss_fn_alex.forward(ground_truth_tensor, \\\n",
    "                                     dpgsgld_recons_tensor)"
   ]
  },
  {
   "cell_type": "code",
   "execution_count": 129,
   "id": "e2e42306",
   "metadata": {},
   "outputs": [
    {
     "name": "stdout",
     "output_type": "stream",
     "text": [
      "0.712 & 11.021 & 0.451 & 0.044\n"
     ]
    }
   ],
   "source": [
    "print('{:.3f} & {:.3f} & {:.3f} & {:.3f}'.format(SSIR_dpsgld.round(3), PSNR_dpsgld.round(3), \\\n",
    "NRMSE_dpsgld.round(3), LPIPS_dpsgld.item()))"
   ]
  },
  {
   "cell_type": "code",
   "execution_count": 130,
   "id": "ef66bcb0",
   "metadata": {},
   "outputs": [
    {
     "name": "stdout",
     "output_type": "stream",
     "text": [
      "0.074 & 4.005 & 1.012 & 0.471\n"
     ]
    }
   ],
   "source": [
    "print('{:.3f} & {:.3f} & {:.3f} & {:.3f}'.format(SSIR_dpsgd.round(3), PSNR_dpsgd.round(3),\\\n",
    "NRMSE_dpsgd.round(3), LPIPS_dpsgd.item()))"
   ]
  },
  {
   "cell_type": "code",
   "execution_count": 131,
   "id": "b2f72bc9",
   "metadata": {},
   "outputs": [
    {
     "name": "stdout",
     "output_type": "stream",
     "text": [
      "\\textbf-0.003 & \\textbf3.233 & \\textbf1.106 & \\textbf0.545\n"
     ]
    }
   ],
   "source": [
    "print('\\\\textbf{:.3f} & \\\\textbf{:.3f} & \\\\textbf{:.3f} & \\\\textbf{:.3f}'.format(SSIR_dpgsgld.round(3), PSNR_dpgsgld.round(3), \\\n",
    "NRMSE_dpgsgld.round(3), LPIPS_dpgsgld.item()))"
   ]
  },
  {
   "cell_type": "code",
   "execution_count": null,
   "id": "749a74c5",
   "metadata": {},
   "outputs": [],
   "source": []
  },
  {
   "cell_type": "code",
   "execution_count": null,
   "id": "bef74258",
   "metadata": {},
   "outputs": [],
   "source": []
  },
  {
   "cell_type": "code",
   "execution_count": null,
   "id": "77e32297",
   "metadata": {},
   "outputs": [],
   "source": []
  },
  {
   "cell_type": "code",
   "execution_count": null,
   "id": "4e69fdc1",
   "metadata": {},
   "outputs": [],
   "source": []
  },
  {
   "cell_type": "code",
   "execution_count": null,
   "id": "2fe19cdc",
   "metadata": {},
   "outputs": [],
   "source": []
  },
  {
   "cell_type": "code",
   "execution_count": null,
   "id": "a8b1b0ad",
   "metadata": {},
   "outputs": [],
   "source": []
  },
  {
   "cell_type": "code",
   "execution_count": null,
   "id": "aa63906b",
   "metadata": {},
   "outputs": [],
   "source": []
  },
  {
   "cell_type": "code",
   "execution_count": null,
   "id": "881ebb8e",
   "metadata": {},
   "outputs": [],
   "source": []
  }
 ],
 "metadata": {
  "kernelspec": {
   "display_name": "Python 3 (ipykernel)",
   "language": "python",
   "name": "python3"
  },
  "language_info": {
   "codemirror_mode": {
    "name": "ipython",
    "version": 3
   },
   "file_extension": ".py",
   "mimetype": "text/x-python",
   "name": "python",
   "nbconvert_exporter": "python",
   "pygments_lexer": "ipython3",
   "version": "3.9.13"
  }
 },
 "nbformat": 4,
 "nbformat_minor": 5
}
