{
 "cells": [
  {
   "cell_type": "code",
   "execution_count": 1,
   "id": "ee7eca4f",
   "metadata": {},
   "outputs": [],
   "source": [
    "import cv2\n",
    "import torch\n",
    "import torch.nn as nn\n",
    "import numpy as np\n",
    "from skimage import metrics\n",
    "from skimage.io import imread, imshow"
   ]
  },
  {
   "cell_type": "code",
   "execution_count": 2,
   "id": "9ea96c37",
   "metadata": {},
   "outputs": [],
   "source": [
    "ground_path = 'images/SVHN_ground_truth-100.png'"
   ]
  },
  {
   "cell_type": "code",
   "execution_count": 3,
   "id": "83307dea",
   "metadata": {},
   "outputs": [],
   "source": [
    "ground_truth=imread(ground_path)"
   ]
  },
  {
   "cell_type": "code",
   "execution_count": 4,
   "id": "3a248c85",
   "metadata": {},
   "outputs": [],
   "source": [
    "DNAll = 'images/order/DNAll/SVHN_DPGSGLD_1.0_0.5_0.01-24000-100.png'\n",
    "DNOne = 'images/order/DNOne/SVHN_DPGSGLD_1.0_0.5_0.01-24000-100.png'\n",
    "NDAll = 'images/order/NDAll/SVHN_DPGSGLD_1.0_0.5_0.01-24000-100.png'\n",
    "NDOne = 'images/order/NDOne/SVHN_DPGSGLD_1.0_0.5_0.01-24000-100.png'"
   ]
  },
  {
   "cell_type": "code",
   "execution_count": 5,
   "id": "ea6f2d3f",
   "metadata": {},
   "outputs": [],
   "source": [
    "DNALL = imread(DNAll)\n",
    "DNONE = imread(DNOne)\n",
    "NDALL = imread(NDAll)\n",
    "NDONE = imread(NDOne)"
   ]
  },
  {
   "cell_type": "code",
   "execution_count": 6,
   "id": "414108d2",
   "metadata": {},
   "outputs": [],
   "source": [
    "ndone_SSIR = metrics.structural_similarity(ground_truth, NDONE, \n",
    "                                           multichannel=True)\n",
    "ndall_SSIR = metrics.structural_similarity(ground_truth, NDALL, \n",
    "                                           multichannel=True)\n",
    "dnone_SSIR = metrics.structural_similarity(ground_truth, DNONE, \n",
    "                                           multichannel=True)\n",
    "dnall_SSIR = metrics.structural_similarity(ground_truth, DNALL,  \n",
    "                                           multichannel=True)"
   ]
  },
  {
   "cell_type": "code",
   "execution_count": 7,
   "id": "7024cd16",
   "metadata": {},
   "outputs": [],
   "source": [
    "ndone_PNSR = metrics.peak_signal_noise_ratio(ground_truth, NDONE)\n",
    "ndall_PNSR = metrics.peak_signal_noise_ratio(ground_truth, NDALL)\n",
    "dnone_PNSR = metrics.peak_signal_noise_ratio(ground_truth, DNONE)\n",
    "dnall_PNSR = metrics.peak_signal_noise_ratio(ground_truth, DNALL)"
   ]
  },
  {
   "cell_type": "code",
   "execution_count": 8,
   "id": "9045883e",
   "metadata": {},
   "outputs": [],
   "source": [
    "ndone_NRMSE = metrics.normalized_root_mse(ground_truth, NDONE)\n",
    "ndall_NRMSE = metrics.normalized_root_mse(ground_truth, NDALL)\n",
    "dnone_NRMSE = metrics.normalized_root_mse(ground_truth, DNONE)\n",
    "dnall_NRMSE = metrics.normalized_root_mse(ground_truth, DNALL)"
   ]
  },
  {
   "cell_type": "code",
   "execution_count": 9,
   "id": "8fc6a5b3",
   "metadata": {},
   "outputs": [
    {
     "name": "stdout",
     "output_type": "stream",
     "text": [
      "Setting up [LPIPS] perceptual loss: trunk [alex], v[0.1], spatial [off]\n",
      "Loading model from: /Users/yangchengyi/anaconda3/lib/python3.7/site-packages/lpips/weights/v0.1/alex.pth\n"
     ]
    }
   ],
   "source": [
    "import lpips\n",
    "loss_fn_alex = lpips.LPIPS(net='alex')"
   ]
  },
  {
   "cell_type": "code",
   "execution_count": 10,
   "id": "f6dca686",
   "metadata": {},
   "outputs": [],
   "source": [
    "def numpy2tensor(tensor):\n",
    "    return torch.tensor(tensor, dtype=torch.float).permute(2,0,1)"
   ]
  },
  {
   "cell_type": "code",
   "execution_count": 11,
   "id": "41d06d22",
   "metadata": {},
   "outputs": [],
   "source": [
    "ndone_LPIPS = loss_fn_alex.forward(numpy2tensor(ground_truth), \n",
    "                                   numpy2tensor(NDONE)).detach().item()\n",
    "ndall_LPIPS = loss_fn_alex.forward(numpy2tensor(ground_truth), \n",
    "                                   numpy2tensor(NDALL)).detach().item()\n",
    "dnone_LPIPS = loss_fn_alex.forward(numpy2tensor(ground_truth), \n",
    "                                   numpy2tensor(DNONE)).detach().item()\n",
    "dnall_LPIPS = loss_fn_alex.forward(numpy2tensor(ground_truth), \n",
    "                                   numpy2tensor(DNALL)).detach().item()"
   ]
  },
  {
   "cell_type": "code",
   "execution_count": null,
   "id": "8ad66ba1",
   "metadata": {},
   "outputs": [],
   "source": []
  },
  {
   "cell_type": "code",
   "execution_count": 12,
   "id": "42815b2f",
   "metadata": {},
   "outputs": [
    {
     "name": "stdout",
     "output_type": "stream",
     "text": [
      "0.592 & 19.485 & 0.343 & 0.096\n"
     ]
    }
   ],
   "source": [
    "print(ndone_SSIR.round(3), '&' ,ndone_PNSR.round(3), '&' , \n",
    "      ndone_NRMSE.round(3), '&' ,'{:.3f}'.format(ndone_LPIPS))"
   ]
  },
  {
   "cell_type": "code",
   "execution_count": 13,
   "id": "c6e74ec0",
   "metadata": {
    "scrolled": true
   },
   "outputs": [
    {
     "name": "stdout",
     "output_type": "stream",
     "text": [
      "0.585 & 20.467 & 0.306 & 0.068\n"
     ]
    }
   ],
   "source": [
    "print(ndall_SSIR.round(3), '&' ,ndall_PNSR.round(3), '&' , \n",
    "      ndall_NRMSE.round(3), '&' ,'{:.3f}'.format(ndall_LPIPS))"
   ]
  },
  {
   "cell_type": "code",
   "execution_count": 14,
   "id": "8f32f40e",
   "metadata": {},
   "outputs": [
    {
     "name": "stdout",
     "output_type": "stream",
     "text": [
      "0.001 & 7.234 & 1.405 & 0.534\n"
     ]
    }
   ],
   "source": [
    "print(dnone_SSIR.round(3), '&' ,dnone_PNSR.round(3), '&' , \n",
    "      dnone_NRMSE.round(3), '&' ,'{:.3f}'.format(dnone_LPIPS))"
   ]
  },
  {
   "cell_type": "code",
   "execution_count": 15,
   "id": "8fa7e9ee",
   "metadata": {},
   "outputs": [
    {
     "name": "stdout",
     "output_type": "stream",
     "text": [
      "0.004 & 7.211 & 1.408 & 0.529\n"
     ]
    }
   ],
   "source": [
    "print(dnall_SSIR.round(3), '&' ,dnall_PNSR.round(3), '&' , \n",
    "      dnall_NRMSE.round(3), '&' ,'{:.3f}'.format(dnall_LPIPS))"
   ]
  },
  {
   "cell_type": "code",
   "execution_count": null,
   "id": "7d618eb1",
   "metadata": {},
   "outputs": [],
   "source": []
  },
  {
   "cell_type": "code",
   "execution_count": null,
   "id": "f7a0b3dc",
   "metadata": {},
   "outputs": [],
   "source": []
  },
  {
   "cell_type": "code",
   "execution_count": null,
   "id": "cb44eb83",
   "metadata": {},
   "outputs": [],
   "source": []
  },
  {
   "cell_type": "code",
   "execution_count": null,
   "id": "b6e3043e",
   "metadata": {},
   "outputs": [],
   "source": []
  },
  {
   "cell_type": "code",
   "execution_count": null,
   "id": "77c7a3fc",
   "metadata": {},
   "outputs": [],
   "source": []
  },
  {
   "cell_type": "code",
   "execution_count": null,
   "id": "65a5a194",
   "metadata": {},
   "outputs": [],
   "source": []
  }
 ],
 "metadata": {
  "kernelspec": {
   "display_name": "Python 3",
   "language": "python",
   "name": "python3"
  },
  "language_info": {
   "codemirror_mode": {
    "name": "ipython",
    "version": 3
   },
   "file_extension": ".py",
   "mimetype": "text/x-python",
   "name": "python",
   "nbconvert_exporter": "python",
   "pygments_lexer": "ipython3",
   "version": "3.7.10"
  }
 },
 "nbformat": 4,
 "nbformat_minor": 5
}
