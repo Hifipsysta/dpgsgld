{
 "cells": [
  {
   "cell_type": "code",
   "execution_count": 4,
   "id": "8e127576",
   "metadata": {},
   "outputs": [],
   "source": [
    "import cv2\n",
    "import torch\n",
    "import torch.nn as nn\n",
    "import numpy as np\n",
    "from skimage import metrics\n",
    "from skimage.io import imread, imshow"
   ]
  },
  {
   "cell_type": "markdown",
   "id": "82f952cc",
   "metadata": {},
   "source": [
    "DPGSGLD24000 = 'images/DP-GSGLD24000/CIFAR10_trainedResNet20-4_sim--1.png'\n",
    "DPSGD24000 = 'images/DP-SGD24000/CIFAR10_trainedResNet20-4_sim--1.png'\n",
    "SGD24000 = 'images/SGD24000/CIFAR10_trainedResNet20-4_sim--1.png'\n",
    "ADAM24000 = 'images/ADAM24000/CIFAR10_trainedResNet20-4_sim--1.png'\n",
    "GC3024000 = 'images/GC30-24000/CIFAR10_trainedResNet20-4_sim--1.png'"
   ]
  },
  {
   "cell_type": "code",
   "execution_count": 5,
   "id": "0036482e",
   "metadata": {},
   "outputs": [],
   "source": [
    "DPGSGLD24000 = 'images/DP-GSGLD24000/CIFAR10_trainedResNet20-4_sim--1.png'\n",
    "DPSGLD24000 = 'images/DP-SGLD24000/CIFAR10_trainedResNet20-4_sim--1.png'\n",
    "DPSGD24000 = 'images/DP-SGD24000/CIFAR10_trainedResNet20-4_sim--1.png'\n",
    "SGD24000 = 'images/SGD24000/CIFAR10_trainedResNet20-4_sim--1.png'\n",
    "ADAM24000 = 'images/ADAM24000/CIFAR10_trainedResNet20-4_sim--1.png'\n",
    "GC5024000 = 'images/GC50-24000/CIFAR10_trainedResNet20-4_sim--1.png'\n",
    "#GC5024000 = 'images/GC50-24000/CIFAR10_gc-sgd_trainedResNet20-4_sim--1.png'\n",
    "GC8024000 = 'images/GC80-24000/CIFAR10_trainedResNet20-4_sim--1.png'"
   ]
  },
  {
   "cell_type": "code",
   "execution_count": 3,
   "id": "421569a4",
   "metadata": {},
   "outputs": [],
   "source": [
    "sgd_recons = imread(SGD24000)\n",
    "adam_recons = imread(ADAM24000)\n",
    "dpsgd_recons = imread(DPSGD24000)\n",
    "dpsgld_recons = imread(DPSGLD24000)\n",
    "gc50_recons = imread(GC5024000)\n",
    "gc80_recons = imread(GC8024000)\n",
    "dpgsgld_recons = imread(DPGSGLD24000)\n",
    "ground_truth = imread('images/CIFAR10_ground_truth--1.png')\n",
    "#ground_truth = imread('images/SVHN_ground_truth-100.png')"
   ]
  },
  {
   "cell_type": "code",
   "execution_count": 4,
   "id": "25819ac6",
   "metadata": {},
   "outputs": [],
   "source": [
    "SSIR_sgd = metrics.structural_similarity(ground_truth, sgd_recons, multichannel=True)\n",
    "SSIR_adam = metrics.structural_similarity(ground_truth, adam_recons, multichannel=True)\n",
    "SSIR_dpsgd = metrics.structural_similarity(ground_truth, dpsgd_recons, multichannel=True)\n",
    "SSIR_dpsgld = metrics.structural_similarity(ground_truth, dpsgld_recons, multichannel=True)\n",
    "SSIR_gc50 = metrics.structural_similarity(ground_truth, gc50_recons, multichannel=True)\n",
    "SSIR_gc80 = metrics.structural_similarity(ground_truth, gc80_recons, multichannel=True)\n",
    "SSIR_dpgsgld = metrics.structural_similarity(ground_truth, dpgsgld_recons, multichannel=True)"
   ]
  },
  {
   "cell_type": "code",
   "execution_count": 5,
   "id": "8b17321e",
   "metadata": {},
   "outputs": [],
   "source": [
    "NRMSE_sgd = metrics.normalized_root_mse(ground_truth, sgd_recons)\n",
    "NRMSE_adam = metrics.normalized_root_mse(ground_truth, adam_recons)\n",
    "NRMSE_dpsgd = metrics.normalized_root_mse(ground_truth, dpsgd_recons)\n",
    "NRMSE_dpsgld = metrics.normalized_root_mse(ground_truth, dpsgld_recons)\n",
    "NRMSE_gc50 = metrics.normalized_root_mse(ground_truth, gc50_recons)\n",
    "NRMSE_gc80 = metrics.normalized_root_mse(ground_truth, gc80_recons)\n",
    "NRMSE_dpgsgld = metrics.normalized_root_mse(ground_truth, dpgsgld_recons)"
   ]
  },
  {
   "cell_type": "markdown",
   "id": "40771ff8",
   "metadata": {},
   "source": [
    "MSE_dpsgd = metrics.mean_squared_error(ground_truth, dpsgd_recons)\n",
    "MSE_dpgsgld = metrics.mean_squared_error(ground_truth, dpgsgld_recons)\n",
    "MSE_dpsgd.round(2), MSE_dpgsgld.round(2)"
   ]
  },
  {
   "cell_type": "code",
   "execution_count": 6,
   "id": "5f7394e0",
   "metadata": {},
   "outputs": [],
   "source": [
    "PSNR_sgd = metrics.peak_signal_noise_ratio(ground_truth, sgd_recons)\n",
    "PSNR_adam = metrics.peak_signal_noise_ratio(ground_truth, adam_recons)\n",
    "PSNR_dpsgd = metrics.peak_signal_noise_ratio(ground_truth, dpsgd_recons)\n",
    "PSNR_dpsgld = metrics.peak_signal_noise_ratio(ground_truth, dpsgld_recons)\n",
    "PSNR_gc50 = metrics.peak_signal_noise_ratio(ground_truth, gc50_recons)\n",
    "PSNR_gc80 = metrics.peak_signal_noise_ratio(ground_truth, gc80_recons)\n",
    "PSNR_dpgsgld = metrics.peak_signal_noise_ratio(ground_truth, dpgsgld_recons)"
   ]
  },
  {
   "cell_type": "code",
   "execution_count": 7,
   "id": "a16fa765",
   "metadata": {},
   "outputs": [],
   "source": [
    "import lpips"
   ]
  },
  {
   "cell_type": "code",
   "execution_count": 8,
   "id": "227a0147",
   "metadata": {
    "scrolled": true
   },
   "outputs": [
    {
     "name": "stdout",
     "output_type": "stream",
     "text": [
      "Setting up [LPIPS] perceptual loss: trunk [alex], v[0.1], spatial [off]\n",
      "Loading model from: /Users/yangchengyi/anaconda3/lib/python3.7/site-packages/lpips/weights/v0.1/alex.pth\n"
     ]
    }
   ],
   "source": [
    "loss_fn_alex = lpips.LPIPS(net='alex') # best forward scores\n",
    "#loss_fn_vgg = lpips.LPIPS(net='vgg')"
   ]
  },
  {
   "cell_type": "code",
   "execution_count": 9,
   "id": "73bbaa99",
   "metadata": {},
   "outputs": [],
   "source": [
    "ground_truth_tensor = torch.tensor(ground_truth, dtype=torch.float).permute(2,0,1)\n",
    "sgd_recons_tensor = torch.tensor(sgd_recons, dtype=torch.float).permute(2,0,1)\n",
    "adam_recons_tensor = torch.tensor(adam_recons, dtype=torch.float).permute(2,0,1)\n",
    "dpsgd_recons_tensor = torch.tensor(dpsgd_recons, dtype=torch.float).permute(2,0,1)\n",
    "dpsgld_recons_tensor = torch.tensor(dpsgld_recons, dtype=torch.float).permute(2,0,1)\n",
    "gc50_recons_tensor = torch.tensor(gc50_recons, dtype=torch.float).permute(2,0,1)\n",
    "gc80_recons_tensor = torch.tensor(gc80_recons, dtype=torch.float).permute(2,0,1)\n",
    "dpgsgld_recons_tensor = torch.tensor(dpgsgld_recons, dtype=torch.float).permute(2,0,1)"
   ]
  },
  {
   "cell_type": "code",
   "execution_count": 10,
   "id": "f1a34107",
   "metadata": {},
   "outputs": [],
   "source": [
    "LPIPS_sgd = loss_fn_alex.forward(ground_truth_tensor, \\\n",
    "                                   sgd_recons_tensor)\n",
    "LPIPS_adam = loss_fn_alex.forward(ground_truth_tensor, \\\n",
    "                                   adam_recons_tensor)\n",
    "LPIPS_dpsgd = loss_fn_alex.forward(ground_truth_tensor, \\\n",
    "                                   dpsgd_recons_tensor)\n",
    "LPIPS_dpsgld = loss_fn_alex.forward(ground_truth_tensor, \\\n",
    "                                   dpsgld_recons_tensor)\n",
    "LPIPS_gc50 = loss_fn_alex.forward(ground_truth_tensor, \\\n",
    "                                   gc50_recons_tensor)\n",
    "LPIPS_gc80 = loss_fn_alex.forward(ground_truth_tensor, \\\n",
    "                                   gc80_recons_tensor)\n",
    "LPIPS_dpgsgld = loss_fn_alex.forward(ground_truth_tensor, \\\n",
    "                                     dpgsgld_recons_tensor)"
   ]
  },
  {
   "cell_type": "code",
   "execution_count": 11,
   "id": "f5813b77",
   "metadata": {},
   "outputs": [
    {
     "data": {
      "text/plain": [
       "(0.828, 19.903, 0.206, 0.011647447943687439)"
      ]
     },
     "execution_count": 11,
     "metadata": {},
     "output_type": "execute_result"
    }
   ],
   "source": [
    "SSIR_sgd.round(3), PSNR_sgd.round(3), \\\n",
    "NRMSE_sgd.round(3), LPIPS_sgd.item()"
   ]
  },
  {
   "cell_type": "code",
   "execution_count": 12,
   "id": "f4da0c5e",
   "metadata": {},
   "outputs": [
    {
     "data": {
      "text/plain": [
       "(0.755, 18.25, 0.249, 0.015443901531398296)"
      ]
     },
     "execution_count": 12,
     "metadata": {},
     "output_type": "execute_result"
    }
   ],
   "source": [
    "SSIR_adam.round(3), PSNR_adam.round(3), \\\n",
    "NRMSE_adam.round(3), LPIPS_adam.item()"
   ]
  },
  {
   "cell_type": "code",
   "execution_count": 13,
   "id": "4d38ce08",
   "metadata": {},
   "outputs": [
    {
     "data": {
      "text/plain": [
       "(0.085, 11.113, 0.566, 0.1862264722585678)"
      ]
     },
     "execution_count": 13,
     "metadata": {},
     "output_type": "execute_result"
    }
   ],
   "source": [
    "SSIR_dpsgd.round(3), PSNR_dpsgd.round(3), \\\n",
    "NRMSE_dpsgd.round(3), LPIPS_dpsgd.item()"
   ]
  },
  {
   "cell_type": "code",
   "execution_count": 14,
   "id": "e15289ff",
   "metadata": {},
   "outputs": [
    {
     "data": {
      "text/plain": [
       "(0.67, 16.54, 0.303, 0.0233590230345726)"
      ]
     },
     "execution_count": 14,
     "metadata": {},
     "output_type": "execute_result"
    }
   ],
   "source": [
    "SSIR_dpsgld.round(3), PSNR_dpsgld.round(3), \\\n",
    "NRMSE_dpsgld.round(3), LPIPS_dpsgld.item()"
   ]
  },
  {
   "cell_type": "code",
   "execution_count": 15,
   "id": "d90dd843",
   "metadata": {},
   "outputs": [
    {
     "data": {
      "text/plain": [
       "(0.722, 17.793, 0.262, 0.010912721045315266)"
      ]
     },
     "execution_count": 15,
     "metadata": {},
     "output_type": "execute_result"
    }
   ],
   "source": [
    "SSIR_gc50.round(3), PSNR_gc50.round(3), \\\n",
    "NRMSE_gc50.round(3), LPIPS_gc50.item()"
   ]
  },
  {
   "cell_type": "code",
   "execution_count": 16,
   "id": "a4cbc95e",
   "metadata": {},
   "outputs": [
    {
     "data": {
      "text/plain": [
       "(0.424, 14.06, 0.403, 0.04186458885669708)"
      ]
     },
     "execution_count": 16,
     "metadata": {},
     "output_type": "execute_result"
    }
   ],
   "source": [
    "SSIR_gc80.round(3), PSNR_gc80.round(3), \\\n",
    "NRMSE_gc80.round(3), LPIPS_gc80.item()"
   ]
  },
  {
   "cell_type": "code",
   "execution_count": 17,
   "id": "8777dfa0",
   "metadata": {},
   "outputs": [
    {
     "data": {
      "text/plain": [
       "(-0.006, 7.502, 0.858, 0.2894671559333801)"
      ]
     },
     "execution_count": 17,
     "metadata": {},
     "output_type": "execute_result"
    }
   ],
   "source": [
    "SSIR_dpgsgld.round(3), PSNR_dpgsgld.round(3), \\\n",
    "NRMSE_dpgsgld.round(3), LPIPS_dpgsgld.item()"
   ]
  },
  {
   "cell_type": "code",
   "execution_count": null,
   "id": "4790ae0e",
   "metadata": {},
   "outputs": [],
   "source": []
  },
  {
   "cell_type": "code",
   "execution_count": null,
   "id": "4b46fd7a",
   "metadata": {},
   "outputs": [],
   "source": []
  },
  {
   "cell_type": "code",
   "execution_count": null,
   "id": "475d8d5a",
   "metadata": {},
   "outputs": [],
   "source": []
  },
  {
   "cell_type": "code",
   "execution_count": null,
   "id": "a6ddaae5",
   "metadata": {},
   "outputs": [],
   "source": []
  },
  {
   "cell_type": "code",
   "execution_count": null,
   "id": "c2a7fbd9",
   "metadata": {},
   "outputs": [],
   "source": []
  },
  {
   "cell_type": "code",
   "execution_count": null,
   "id": "9369a675",
   "metadata": {},
   "outputs": [],
   "source": []
  },
  {
   "cell_type": "code",
   "execution_count": null,
   "id": "d5e99a57",
   "metadata": {},
   "outputs": [],
   "source": []
  }
 ],
 "metadata": {
  "kernelspec": {
   "display_name": "Python 3",
   "language": "python",
   "name": "python3"
  },
  "language_info": {
   "codemirror_mode": {
    "name": "ipython",
    "version": 3
   },
   "file_extension": ".py",
   "mimetype": "text/x-python",
   "name": "python",
   "nbconvert_exporter": "python",
   "pygments_lexer": "ipython3",
   "version": "3.7.10"
  }
 },
 "nbformat": 4,
 "nbformat_minor": 5
}
